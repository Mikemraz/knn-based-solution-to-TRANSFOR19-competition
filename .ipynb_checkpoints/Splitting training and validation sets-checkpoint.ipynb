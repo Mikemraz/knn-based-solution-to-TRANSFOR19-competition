{
 "cells": [
  {
   "cell_type": "code",
   "execution_count": 1,
   "metadata": {},
   "outputs": [],
   "source": [
    "import pandas as pd\n",
    "import numpy as np\n",
    "from datetime import datetime"
   ]
  },
  {
   "cell_type": "code",
   "execution_count": 2,
   "metadata": {},
   "outputs": [],
   "source": [
    "def get_datetime_from_str(string):\n",
    "    \"\"\"return datetime of sting with format '%Y-%m-%d %H:%M:%S'.\n",
    "    \n",
    "    Parameters:\n",
    "    string: a string with format '%Y-%m-%d %H:%M:%S'.\n",
    "    \n",
    "    Returns:\n",
    "    datetime\n",
    "    \n",
    "    \"\"\"\n",
    "    return datetime.strptime(string, '%Y-%m-%d %H:%M:%S')\n",
    "\n",
    "def get_str_from_datetime(date):\n",
    "    \"\"\"return string representation of datetime, with format '%H:%M:%S'.\n",
    "    \n",
    "    Parameters:\n",
    "    date: datetime\n",
    "    \n",
    "    Returns:\n",
    "    string with format '%H:%M:%S'.\n",
    "    \n",
    "    \"\"\"\n",
    "    return date.strftime('%H:%M:%S')\n",
    "\n",
    "def get_day_of_datetime(date):\n",
    "    \"\"\"return day of datetime object.\n",
    "    \n",
    "    Parameters:\n",
    "    date: datetime object\n",
    "    \n",
    "    Returns:\n",
    "    day of datetime, type int.\n",
    "    \n",
    "    \"\"\"\n",
    "    return date.day\n",
    "\n",
    "def make_validation_set(test_data):\n",
    "    \"\"\"make validation set.\n",
    "    \n",
    "    Parameters:\n",
    "    test_data: the dataframe treated as validation set, with speed data of whole day.\n",
    "    \n",
    "    Returns:\n",
    "    test_data: revised version of input dataframe with speed converted to np.nan in am peak hours and pm peak hours.\n",
    "    \n",
    "    \"\"\"\n",
    "    year = test_data.datetime[5].year\n",
    "    month = test_data.datetime[5].month\n",
    "    day = test_data.datetime[5].day\n",
    "    am_peak_start = datetime(year, month, day, 6, 0, 0)\n",
    "    am_peak_end = datetime(year, month, day, 11, 0, 0)\n",
    "    pm_peak_start = datetime(year, month, day, 16, 0, 0)\n",
    "    pm_peak_end = datetime(year, month, day, 21, 0, 0)\n",
    "    am = test_data[(test_data.datetime<am_peak_end)&(test_data.datetime>=am_peak_start)]\n",
    "    pm = test_data[(test_data.datetime<pm_peak_end)&(test_data.datetime>=pm_peak_start)]\n",
    "    test_data.loc[am.index.append(pm.index),'speed'] = np.nan\n",
    "    test_data.datetime = test_data.datetime.transform(get_str_from_datetime)\n",
    "    return test_data\n",
    "\n",
    "def get_selected_data_by_day(days):\n",
    "    \"\"\"get combined dataframe by days\n",
    "    \n",
    "    Parameters:\n",
    "    days: list of days \n",
    "    \n",
    "    Returns:\n",
    "    df_return: concatenated dataframe of chosen days.\n",
    "    \"\"\"\n",
    "    df_return = pd.DataFrame(columns=['datetime','speed'])\n",
    "    for day_of_month in days:\n",
    "        df_day = df[df.day == day_of_month]\n",
    "        df_return = pd.concat([df_return, df_day], ignore_index=True)\n",
    "    return df_return"
   ]
  },
  {
   "cell_type": "code",
   "execution_count": 8,
   "metadata": {},
   "outputs": [],
   "source": [
    "direction = 'south'\n",
    "file_name = 'to_{}_historical_road_speed_cleaned.csv'.format(direction)\n",
    "df = pd.read_csv(file_name)"
   ]
  },
  {
   "cell_type": "code",
   "execution_count": 9,
   "metadata": {},
   "outputs": [
    {
     "name": "stderr",
     "output_type": "stream",
     "text": [
      "D:\\software\\Anaconda\\lib\\site-packages\\ipykernel_launcher.py:2: UserWarning: Pandas doesn't allow columns to be created via a new attribute name - see https://pandas.pydata.org/pandas-docs/stable/indexing.html#attribute-access\n",
      "  \n"
     ]
    }
   ],
   "source": [
    "df.datetime = df.datetime.transform(get_datetime_from_str)\n",
    "df.day = df.datetime.transform(get_day_of_datetime)"
   ]
  },
  {
   "cell_type": "markdown",
   "metadata": {},
   "source": [
    "#### use k-folds as validation method. and there are 7 testsets in total with day of month: 17,11,26,20,21,22,9"
   ]
  },
  {
   "cell_type": "code",
   "execution_count": 10,
   "metadata": {},
   "outputs": [],
   "source": [
    "total_days = set(range(1,32))\n",
    "test_day_list = [17,11,26,20,21,22,9]"
   ]
  },
  {
   "cell_type": "code",
   "execution_count": 11,
   "metadata": {},
   "outputs": [],
   "source": [
    "i = 1\n",
    "for day in test_day_list:\n",
    "    test_day = [day]\n",
    "    train_day_list = list(total_days.difference(set(test_day)))\n",
    "    test_data = get_selected_data_by_day(test_day)\n",
    "    test_data.to_csv('validation/{}/ground_truth_for_test/test_data_fold{}_answer.csv'.format(direction,i))\n",
    "    test_data = make_test_set(test_data)\n",
    "    train_data = get_selected_data_by_day(train_day_list)\n",
    "    test_data.to_csv('validation/{}/test_data_fold{}.csv'.format(direction,i))\n",
    "    train_data.to_csv('validation/{}/training_data_fold{}.csv'.format(direction,i))\n",
    "    i += 1"
   ]
  }
 ],
 "metadata": {
  "kernelspec": {
   "display_name": "Python 3",
   "language": "python",
   "name": "python3"
  },
  "language_info": {
   "codemirror_mode": {
    "name": "ipython",
    "version": 3
   },
   "file_extension": ".py",
   "mimetype": "text/x-python",
   "name": "python",
   "nbconvert_exporter": "python",
   "pygments_lexer": "ipython3",
   "version": "3.6.5"
  }
 },
 "nbformat": 4,
 "nbformat_minor": 2
}
